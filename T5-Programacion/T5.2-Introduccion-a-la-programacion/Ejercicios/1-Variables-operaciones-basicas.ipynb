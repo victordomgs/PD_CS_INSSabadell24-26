{
  "nbformat": 4,
  "nbformat_minor": 0,
  "metadata": {
    "colab": {
      "provenance": []
    },
    "kernelspec": {
      "name": "python3",
      "display_name": "Python 3"
    },
    "language_info": {
      "name": "python"
    }
  },
  "cells": [
    {
      "cell_type": "markdown",
      "source": [
        "***1. Variables y operaciones básicas***\n",
        "\n",
        "\n",
        "*   Declara dos variables ```a``` y ```b``` con los valores 5 y 3, respectivamente.\n",
        "*   Suma ambos valores y muestra el resultado con ```printf```.\n",
        "\n"
      ],
      "metadata": {
        "id": "9RfFlrn_MlsN"
      }
    },
    {
      "cell_type": "code",
      "source": [],
      "metadata": {
        "id": "NLpL85CNMpYA"
      },
      "execution_count": null,
      "outputs": []
    },
    {
      "cell_type": "markdown",
      "source": [
        "\n",
        "\n",
        "*   Declara una variable ```nombre``` con tu nombre y muestra un mensaje de bienvenida como:\n",
        "```\"Hola, Juan. Bienvenido a Python\"``` (sustituyendo \"Juan\" por tu nombre).\n",
        "\n"
      ],
      "metadata": {
        "id": "8MPAq6YhNEkl"
      }
    },
    {
      "cell_type": "code",
      "source": [],
      "metadata": {
        "id": "MqY28fB9OHf-"
      },
      "execution_count": null,
      "outputs": []
    },
    {
      "cell_type": "markdown",
      "source": [
        "*   Declara una variable ```x``` con el valor 10 y una variable ```y``` con el valor 4.\n",
        "*   Calcula la resta de ```x``` menos ```y``` y muestra el resultado con ```printf()```."
      ],
      "metadata": {
        "id": "pOjG8R9YNsfk"
      }
    },
    {
      "cell_type": "code",
      "source": [],
      "metadata": {
        "id": "MfRC-8l3OgSX"
      },
      "execution_count": null,
      "outputs": []
    },
    {
      "cell_type": "markdown",
      "source": [
        "*   Declara una variable ```base``` y ```altura``` con los valores 5 y 3 respectivamente.\n",
        "*   Calcula el área de un triángulo utilizando su fórmula.\n",
        "*   Muestra el resultado con ```printf```.\n"
      ],
      "metadata": {
        "id": "mgZ2LkjvOlq-"
      }
    },
    {
      "cell_type": "code",
      "source": [],
      "metadata": {
        "id": "6rWkEUnEPCvd"
      },
      "execution_count": null,
      "outputs": []
    },
    {
      "cell_type": "markdown",
      "source": [
        "*   Declara dos variables ```num1``` y ```num2``` con los valores 15 y 4.\n",
        "*   Calcula el cociente entero de la división (```//```) y el resto (```%```).\n",
        "*   Muestra ambos resultados con ```printf()```."
      ],
      "metadata": {
        "id": "l2vs0D2ZPDmH"
      }
    },
    {
      "cell_type": "code",
      "source": [],
      "metadata": {
        "id": "MzztGUrtPRCh"
      },
      "execution_count": null,
      "outputs": []
    },
    {
      "cell_type": "markdown",
      "source": [
        "*   Declara una variable ```lado``` con el valor 6.\n",
        "*   Calcula el perímetro de un cuadrado (multiplicando el valor del lado por 4).\n",
        "*   Muestra el resultado con ```printf()```.\n"
      ],
      "metadata": {
        "id": "Qx4L2CgLPRtj"
      }
    },
    {
      "cell_type": "code",
      "source": [],
      "metadata": {
        "id": "ax_GPcRrPbvB"
      },
      "execution_count": null,
      "outputs": []
    },
    {
      "cell_type": "markdown",
      "source": [
        "*   Declara una variable ```nombre``` con tu nombre y una variable ```apellido``` con tu apellido.\n",
        "*   Une ambos valores en una sola cadena y muestra el mensaje:\n",
        "```\"Tu nombre completo es: Juan Pérez\"``` (sustituyendo por tus valores)."
      ],
      "metadata": {
        "id": "l0tL1QFTPdfC"
      }
    },
    {
      "cell_type": "code",
      "source": [],
      "metadata": {
        "id": "vz2dZ1s0Pr2C"
      },
      "execution_count": null,
      "outputs": []
    }
  ]
}
