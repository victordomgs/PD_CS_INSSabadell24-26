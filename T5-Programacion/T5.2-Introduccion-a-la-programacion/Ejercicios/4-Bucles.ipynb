{
  "nbformat": 4,
  "nbformat_minor": 0,
  "metadata": {
    "colab": {
      "provenance": []
    },
    "kernelspec": {
      "name": "python3",
      "display_name": "Python 3"
    },
    "language_info": {
      "name": "python"
    }
  },
  "cells": [
    {
      "cell_type": "markdown",
      "source": [
        "***4. Bucles***\n",
        "\n",
        "\n",
        "*   Declara una variable  ```contador``` con valor 1.\n",
        "*   Utiliza un bucle ```while``` para contar del 1 al 10 e imprimir cada número.\n"
      ],
      "metadata": {
        "id": "G68wDG6OttZp"
      }
    },
    {
      "cell_type": "code",
      "source": [],
      "metadata": {
        "id": "GTf3Zp9Vuuyt"
      },
      "execution_count": 20,
      "outputs": []
    },
    {
      "cell_type": "markdown",
      "source": [
        "*   Declara una variable  ```suma``` con valor 0.\n",
        "*   Utiliza un bucle ```for``` para calcular la suma de los primeros 10 números naturales (1 al 10)."
      ],
      "metadata": {
        "id": "7bFrivSOu7Kt"
      }
    },
    {
      "cell_type": "code",
      "source": [],
      "metadata": {
        "id": "om6B6TLTvKwy"
      },
      "execution_count": 20,
      "outputs": []
    },
    {
      "cell_type": "markdown",
      "source": [
        "*   Pide al usuario un número y guardalo en una variable ```num```.\n",
        "*   Muestra la tabla de multiplicar de dicho número del 1 al 10 utilizando un bucle ```for```."
      ],
      "metadata": {
        "id": "WowAb0wZvh9Q"
      }
    },
    {
      "cell_type": "code",
      "source": [],
      "metadata": {
        "id": "ErRHmJgOv-nR"
      },
      "execution_count": 20,
      "outputs": []
    },
    {
      "cell_type": "markdown",
      "source": [
        "*   Pide al usuario una ```palabra```.\n",
        "*   Cuenta cuántas vocales tiene dicha palabra utilizando un bucle ```for```."
      ],
      "metadata": {
        "id": "h1hI2uIjwOhm"
      }
    },
    {
      "cell_type": "code",
      "source": [],
      "metadata": {
        "id": "zTbe2an7wohk"
      },
      "execution_count": 20,
      "outputs": []
    },
    {
      "cell_type": "markdown",
      "source": [
        "*   Investiga como funciona la función ```range```.\n",
        "*   Utiliza un bucle ```for``` para imprimir todos los números pares del 1 al 20."
      ],
      "metadata": {
        "id": "ksPHrVW8x4YQ"
      }
    },
    {
      "cell_type": "code",
      "source": [],
      "metadata": {
        "id": "j27X1prqyOjD"
      },
      "execution_count": 20,
      "outputs": []
    },
    {
      "cell_type": "markdown",
      "source": [
        "*   Genera una variable ```suma``` e inicializala a 0.\n",
        "*   Utiliza un bucle ```while``` que pida números al usuario y los vaya sumando, siempre y cuando el número entrado por el usuario no sea 0."
      ],
      "metadata": {
        "id": "VqJxiztgyuLg"
      }
    },
    {
      "cell_type": "code",
      "source": [],
      "metadata": {
        "id": "N_ypUkVJzOy4"
      },
      "execution_count": 20,
      "outputs": []
    },
    {
      "cell_type": "markdown",
      "source": [
        "*   Usa un bucle ```for``` para imprimir los números del 1 al 10.\n",
        "*   Omite el número 5 utilizando la función ```continue```."
      ],
      "metadata": {
        "id": "XvEESI4izuBU"
      }
    },
    {
      "cell_type": "code",
      "source": [],
      "metadata": {
        "id": "tCx0O_f7z7Zb"
      },
      "execution_count": 20,
      "outputs": []
    }
  ]
}