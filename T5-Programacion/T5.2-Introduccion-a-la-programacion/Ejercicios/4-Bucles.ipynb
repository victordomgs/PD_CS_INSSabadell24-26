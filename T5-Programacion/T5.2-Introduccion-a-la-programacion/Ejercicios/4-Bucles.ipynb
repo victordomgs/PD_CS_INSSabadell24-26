{
  "nbformat": 4,
  "nbformat_minor": 0,
  "metadata": {
    "colab": {
      "provenance": []
    },
    "kernelspec": {
      "name": "python3",
      "display_name": "Python 3"
    },
    "language_info": {
      "name": "python"
    }
  },
  "cells": [
    {
      "cell_type": "markdown",
      "source": [
        "***4. Bucles***\n",
        "\n",
        "\n",
        "*   Declara una variable  ```contador``` con valor 1.\n",
        "*   Utiliza un bucle ```while``` para contar del 1 al 10 e imprimir cada número.\n"
      ],
      "metadata": {
        "id": "G68wDG6OttZp"
      }
    },
    {
      "cell_type": "code",
      "source": [],
      "metadata": {
        "colab": {
          "base_uri": "https://localhost:8080/"
        },
        "id": "GTf3Zp9Vuuyt",
        "outputId": "d9c31cad-077a-4053-a7ba-8c0d07478794"
      },
      "execution_count": 3,
      "outputs": [
        {
          "output_type": "stream",
          "name": "stdout",
          "text": [
            "0\n",
            "1\n",
            "2\n",
            "3\n",
            "4\n",
            "5\n",
            "6\n",
            "7\n",
            "8\n",
            "9\n",
            "10\n"
          ]
        }
      ]
    },
    {
      "cell_type": "markdown",
      "source": [
        "*   Declara una variable  ```suma``` con valor 0.\n",
        "*   Utiliza un bucle ```for``` para calcular la suma de los primeros 10 números naturales (1 al 10)."
      ],
      "metadata": {
        "id": "7bFrivSOu7Kt"
      }
    },
    {
      "cell_type": "code",
      "source": [],
      "metadata": {
        "colab": {
          "base_uri": "https://localhost:8080/"
        },
        "id": "om6B6TLTvKwy",
        "outputId": "2b56b19b-bf50-4740-9698-5c3eacbd48f5"
      },
      "execution_count": 4,
      "outputs": [
        {
          "output_type": "stream",
          "name": "stdout",
          "text": [
            "La suma es: 1\n",
            "La suma es: 3\n",
            "La suma es: 6\n",
            "La suma es: 10\n",
            "La suma es: 15\n",
            "La suma es: 21\n",
            "La suma es: 28\n",
            "La suma es: 36\n",
            "La suma es: 45\n",
            "La suma es: 55\n"
          ]
        }
      ]
    },
    {
      "cell_type": "markdown",
      "source": [
        "*   Pide al usuario un número y guardalo en una variable ```num```.\n",
        "*   Muestra la tabla de multiplicar de dicho número del 1 al 10 utilizando un bucle ```for```."
      ],
      "metadata": {
        "id": "WowAb0wZvh9Q"
      }
    },
    {
      "cell_type": "code",
      "source": [],
      "metadata": {
        "colab": {
          "base_uri": "https://localhost:8080/"
        },
        "id": "ErRHmJgOv-nR",
        "outputId": "3d34dc32-76d0-4cb0-a9ae-502b576c81ed"
      },
      "execution_count": 5,
      "outputs": [
        {
          "output_type": "stream",
          "name": "stdout",
          "text": [
            "Introduce un número: 7\n",
            "7 x 1 = 7\n",
            "7 x 2 = 14\n",
            "7 x 3 = 21\n",
            "7 x 4 = 28\n",
            "7 x 5 = 35\n",
            "7 x 6 = 42\n",
            "7 x 7 = 49\n",
            "7 x 8 = 56\n",
            "7 x 9 = 63\n"
          ]
        }
      ]
    },
    {
      "cell_type": "markdown",
      "source": [
        "*   Pide al usuario una ```palabra```.\n",
        "*   Cuenta cuántas vocales tiene dicha palabra utilizando un bucle ```for```."
      ],
      "metadata": {
        "id": "h1hI2uIjwOhm"
      }
    },
    {
      "cell_type": "code",
      "source": [],
      "metadata": {
        "colab": {
          "base_uri": "https://localhost:8080/"
        },
        "id": "zTbe2an7wohk",
        "outputId": "96ba8591-6c57-4863-a68c-77ab98911af6"
      },
      "execution_count": 11,
      "outputs": [
        {
          "output_type": "stream",
          "name": "stdout",
          "text": [
            "Jauja\n",
            "Número de letras:  2\n"
          ]
        }
      ]
    },
    {
      "cell_type": "markdown",
      "source": [
        "*   Investiga como funciona la función ```range```.\n",
        "*   Utiliza un bucle ```for``` para imprimir todos los números pares del 1 al 20."
      ],
      "metadata": {
        "id": "ksPHrVW8x4YQ"
      }
    },
    {
      "cell_type": "code",
      "source": [],
      "metadata": {
        "id": "j27X1prqyOjD"
      },
      "execution_count": 20,
      "outputs": []
    },
    {
      "cell_type": "markdown",
      "source": [
        "*   Genera una variable ```suma``` e inicializala a 0.\n",
        "*   Utiliza un bucle ```while``` que pida números al usuario y los vaya sumando, siempre y cuando el número entrado por el usuario no sea 0."
      ],
      "metadata": {
        "id": "VqJxiztgyuLg"
      }
    },
    {
      "cell_type": "code",
      "source": [],
      "metadata": {
        "colab": {
          "base_uri": "https://localhost:8080/"
        },
        "id": "N_ypUkVJzOy4",
        "outputId": "c378222c-9b53-4949-dba6-ea6c7257157b"
      },
      "execution_count": 19,
      "outputs": [
        {
          "output_type": "stream",
          "name": "stdout",
          "text": [
            "6\n",
            "7\n",
            "5\n",
            "6\n",
            "0\n",
            "Suma total:  24\n"
          ]
        }
      ]
    },
    {
      "cell_type": "markdown",
      "source": [
        "*   Usa un bucle ```for``` para imprimir los números del 1 al 10.\n",
        "*   Omite el número 5 utilizando la función ```continue```."
      ],
      "metadata": {
        "id": "XvEESI4izuBU"
      }
    },
    {
      "cell_type": "code",
      "source": [],
      "metadata": {
        "colab": {
          "base_uri": "https://localhost:8080/"
        },
        "id": "tCx0O_f7z7Zb",
        "outputId": "85445592-7dc0-4322-8439-3ccd65ba4ca2"
      },
      "execution_count": 20,
      "outputs": [
        {
          "output_type": "stream",
          "name": "stdout",
          "text": [
            "1\n",
            "2\n",
            "3\n",
            "4\n",
            "6\n",
            "7\n",
            "8\n",
            "9\n",
            "10\n"
          ]
        }
      ]
    }
  ]
}