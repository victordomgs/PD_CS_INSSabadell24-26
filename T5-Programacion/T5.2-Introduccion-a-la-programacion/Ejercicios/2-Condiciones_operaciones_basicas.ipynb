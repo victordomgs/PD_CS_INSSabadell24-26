{
  "nbformat": 4,
  "nbformat_minor": 0,
  "metadata": {
    "colab": {
      "provenance": []
    },
    "kernelspec": {
      "name": "python3",
      "display_name": "Python 3"
    },
    "language_info": {
      "name": "python"
    }
  },
  "cells": [
    {
      "cell_type": "markdown",
      "source": [
        "***2. Condiciones y operaciones básicas***\n",
        "\n",
        "\n",
        "*   Declara una variable edad con un valor numérico.\n",
        "*   Si la edad es mayor o igual a 18, muestra el mensaje \"Eres mayor de edad\".\n",
        "*   Si no, muestra el mensaje \"Eres menor de edad\"."
      ],
      "metadata": {
        "id": "Dj_dcMJKsKYo"
      }
    },
    {
      "cell_type": "code",
      "execution_count": null,
      "metadata": {
        "id": "1jg6UqDDsBNm"
      },
      "outputs": [],
      "source": []
    },
    {
      "cell_type": "markdown",
      "source": [
        "*   Declara una variable numero con un valor numérico.\n",
        "*   Si el número es positivo, muestra el mensaje \"El número es positivo\".\n",
        "*   Si el número es negativo, muestra el mensaje \"El número es negativo\".\n",
        "*   Si el número es cero, muestra el mensaje \"El número es cero\".\n"
      ],
      "metadata": {
        "id": "wa26rGfBsJC4"
      }
    },
    {
      "cell_type": "code",
      "source": [],
      "metadata": {
        "id": "GXfDYAiRtmgp"
      },
      "execution_count": null,
      "outputs": []
    },
    {
      "cell_type": "markdown",
      "source": [
        "\n",
        "\n",
        "*   Declara dos variables a y b con valores numéricos.\n",
        "*   Muestra el mayor de los dos valores.\n",
        "\n"
      ],
      "metadata": {
        "id": "GaJIzYnqtnIp"
      }
    },
    {
      "cell_type": "code",
      "source": [],
      "metadata": {
        "id": "VjZVg3_Yt0q0"
      },
      "execution_count": null,
      "outputs": []
    },
    {
      "cell_type": "markdown",
      "source": [
        "\n",
        "\n",
        "*   Declara una variable nota con un valor numérico.\n",
        "*   Si la nota es mayor o igual a 5, muestra el mensaje \"Has aprobado\".\n",
        "*   Si no, muestra el mensaje \"Has suspendido\".\n",
        "\n"
      ],
      "metadata": {
        "id": "hfhq-iiKt2kP"
      }
    },
    {
      "cell_type": "code",
      "source": [],
      "metadata": {
        "id": "eqbkaZvTuE_M"
      },
      "execution_count": null,
      "outputs": []
    },
    {
      "cell_type": "markdown",
      "source": [
        "\n",
        "\n",
        "*   Declara una variable dia con un valor numérico entre 1 y 7.\n",
        "*   Muestra el nombre del día de la semana correspondiente (1 para lunes, 2 para martes, ..., 7 para domingo).\n",
        "\n"
      ],
      "metadata": {
        "id": "t6bd6RvyuHDF"
      }
    },
    {
      "cell_type": "code",
      "source": [],
      "metadata": {
        "id": "xqSfO_3uuSGW"
      },
      "execution_count": null,
      "outputs": []
    }
  ]
}
