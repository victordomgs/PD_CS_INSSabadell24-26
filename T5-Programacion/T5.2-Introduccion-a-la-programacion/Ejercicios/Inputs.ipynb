{
  "nbformat": 4,
  "nbformat_minor": 0,
  "metadata": {
    "colab": {
      "provenance": []
    },
    "kernelspec": {
      "name": "python3",
      "display_name": "Python 3"
    },
    "language_info": {
      "name": "python"
    }
  },
  "cells": [
    {
      "cell_type": "markdown",
      "source": [
        "***3. Inputs***\n",
        "\n",
        "\n",
        "*   Pide al usuario que introduzca su nombre con input().\n",
        "*   Muestra un mensaje de bienvenida como: \"Hola, [nombre]. Bienvenido a Python\"."
      ],
      "metadata": {
        "id": "Dj_dcMJKsKYo"
      }
    },
    {
      "cell_type": "code",
      "execution_count": null,
      "metadata": {
        "id": "1jg6UqDDsBNm"
      },
      "outputs": [],
      "source": []
    },
    {
      "cell_type": "markdown",
      "source": [
        "*   Pide al usuario que introduzca dos números con input().\n",
        "*   Suma ambos números y muestra el resultado.\n",
        "\n"
      ],
      "metadata": {
        "id": "wa26rGfBsJC4"
      }
    },
    {
      "cell_type": "code",
      "source": [],
      "metadata": {
        "id": "GXfDYAiRtmgp"
      },
      "execution_count": null,
      "outputs": []
    },
    {
      "cell_type": "markdown",
      "source": [
        "\n",
        "\n",
        "*   Pide al usuario que introduzca un número con input().\n",
        "*   Muestra el doble de ese número.\n",
        "\n"
      ],
      "metadata": {
        "id": "GaJIzYnqtnIp"
      }
    },
    {
      "cell_type": "code",
      "source": [],
      "metadata": {
        "id": "VjZVg3_Yt0q0"
      },
      "execution_count": null,
      "outputs": []
    },
    {
      "cell_type": "markdown",
      "source": [
        "\n",
        "\n",
        "*   Pide al usuario que introduzca la base y la altura de un triángulo con input().\n",
        "*   Calcula y muestra el área del triángulo.\n",
        "\n"
      ],
      "metadata": {
        "id": "hfhq-iiKt2kP"
      }
    },
    {
      "cell_type": "code",
      "source": [],
      "metadata": {
        "id": "eqbkaZvTuE_M"
      },
      "execution_count": null,
      "outputs": []
    },
    {
      "cell_type": "markdown",
      "source": [
        "\n",
        "\n",
        "*   Pide al usuario que introduzca el radio de un círculo con input().\n",
        "*   Calcula y muestra el área del círculo.\n",
        "\n"
      ],
      "metadata": {
        "id": "t6bd6RvyuHDF"
      }
    },
    {
      "cell_type": "code",
      "source": [],
      "metadata": {
        "id": "xqSfO_3uuSGW"
      },
      "execution_count": null,
      "outputs": []
    }
  ]
}